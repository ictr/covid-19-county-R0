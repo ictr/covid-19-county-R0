{
 "cells": [
  {
   "cell_type": "markdown",
   "metadata": {
    "kernel": "SoS",
    "papermill": {
     "duration": 0.04989,
     "end_time": "2020-09-22T03:36:58.070569",
     "exception": false,
     "start_time": "2020-09-22T03:36:58.020679",
     "status": "completed"
    },
    "tags": []
   },
   "source": [
    "<img  src=\"https://www.bcm.edu/themes/custom/bcm_bootstrap_subtheme/css/../images/BCM-90x90.svg\" alt=\"Drawing\" style=\"height: 100px;float: left;\"/>"
   ]
  },
  {
   "cell_type": "markdown",
   "metadata": {
    "kernel": "SoS",
    "papermill": {
     "duration": 0.037954,
     "end_time": "2020-09-22T03:36:58.144573",
     "exception": false,
     "start_time": "2020-09-22T03:36:58.106619",
     "status": "completed"
    },
    "tags": []
   },
   "source": [
    "# Real-time $R_t$ of COVID-19 pandemic in Texas (Until Oct 01)"
   ]
  },
  {
   "cell_type": "markdown",
   "metadata": {
    "kernel": "SoS",
    "papermill": {
     "duration": 0.03504,
     "end_time": "2020-09-22T03:36:58.215216",
     "exception": false,
     "start_time": "2020-09-22T03:36:58.180176",
     "status": "completed"
    },
    "tags": []
   },
   "source": [
    "This report estimates the county level real-time effective production number ($R_t$) of the COVID-19 pandemic in Texas, based on data from \n",
    "[the Texas Health and Human Services](https://www.dshs.state.tx.us/coronavirus/). This report is updated daily with the most recent version available at the ICTR website.\n",
    "\n",
    "This report is created and maintained by data scientists\n",
    "from the [Institute for Clinical & Translational Research, Baylor College of Medicine](https://www.bcm.edu/research/research-offices/institute-for-clinical-translational-research), with an algorithm that is based on [Kevin Systrom's work](https://github.com/k-sys/covid-19) for the US data. Please refer to the original report for details."
   ]
  },
  {
   "cell_type": "code",
   "execution_count": 1,
   "metadata": {
    "execution": {},
    "jupyter": {
     "source_hidden": true
    },
    "kernel": "Python3",
    "papermill": {
     "duration": 1.203688,
     "end_time": "2020-09-22T03:36:59.454661",
     "exception": false,
     "start_time": "2020-09-22T03:36:58.250973",
     "status": "completed"
    },
    "tags": [
     "parameters"
    ]
   },
   "outputs": [],
   "source": [
    "param_days = 10\n",
    "param_std = 2.3\n",
    "param_sigma = 0.10"
   ]
  },
  {
   "cell_type": "code",
   "execution_count": 2,
   "metadata": {
    "collapsed": true,
    "execution": {},
    "jupyter": {
     "outputs_hidden": true,
     "source_hidden": true
    },
    "kernel": "SoS",
    "papermill": {
     "duration": 0.112934,
     "end_time": "2020-09-22T03:36:59.605238",
     "exception": false,
     "start_time": "2020-09-22T03:36:59.492304",
     "status": "completed"
    },
    "tags": [
     "injected-parameters"
    ]
   },
   "outputs": [],
   "source": [
    "%put param_days param_std param_sigma --to Python3\n",
    "# Parameters\n",
    "param_days = 10\n",
    "param_std = 2.2\n",
    "param_sigma = 0.08\n"
   ]
  },
  {
   "cell_type": "code",
   "execution_count": 3,
   "metadata": {
    "execution": {},
    "jupyter": {
     "source_hidden": true
    },
    "kernel": "Python3",
    "papermill": {
     "duration": 1.565515,
     "end_time": "2020-09-22T03:37:01.206262",
     "exception": false,
     "start_time": "2020-09-22T03:36:59.640747",
     "status": "completed"
    },
    "scrolled": true,
    "tags": []
   },
   "outputs": [],
   "source": [
    "import numpy as np\n",
    "import pandas as pd\n",
    "\n",
    "from matplotlib import pyplot as plt\n",
    "from matplotlib.dates import date2num, num2date\n",
    "from matplotlib import dates as mdates\n",
    "from matplotlib import ticker\n",
    "from matplotlib.colors import ListedColormap\n",
    "from matplotlib.patches import Patch\n",
    "\n",
    "from scipy import stats as sps\n",
    "from scipy.interpolate import interp1d\n",
    "\n",
    "from IPython.display import clear_output\n",
    "\n",
    "FILTERED_REGION_CODES = [] #'AS', 'GU', 'PR', 'VI', 'MP']\n",
    "\n",
    "%config InlineBackend.figure_format = 'retina'"
   ]
  },
  {
   "cell_type": "code",
   "execution_count": 4,
   "metadata": {
    "collapsed": true,
    "execution": {},
    "jupyter": {
     "outputs_hidden": true,
     "source_hidden": true
    },
    "kernel": "Python3",
    "papermill": {
     "duration": 0.073231,
     "end_time": "2020-09-22T03:37:01.313567",
     "exception": false,
     "start_time": "2020-09-22T03:37:01.240336",
     "status": "completed"
    },
    "scrolled": true,
    "tags": []
   },
   "outputs": [],
   "source": [
    "# Column vector of k\n",
    "k = np.arange(0, 70)[:, None]\n",
    "\n",
    "# Different values of Lambda\n",
    "lambdas = [10, 20, 30, 40]\n",
    "\n",
    "# Evaluated the Probability Mass Function (remember: poisson is discrete)\n",
    "y = sps.poisson.pmf(k, lambdas)\n",
    "\n",
    "# Show the resulting shape\n",
    "#print(y.shape)"
   ]
  },
  {
   "cell_type": "code",
   "execution_count": 5,
   "metadata": {
    "execution": {},
    "jupyter": {
     "source_hidden": true
    },
    "kernel": "Python3",
    "papermill": {
     "duration": 0.061207,
     "end_time": "2020-09-22T03:37:01.407504",
     "exception": false,
     "start_time": "2020-09-22T03:37:01.346297",
     "status": "completed"
    },
    "tags": []
   },
   "outputs": [],
   "source": [
    "k = 20\n",
    "\n",
    "lam = np.linspace(1, 45, 90)"
   ]
  },
  {
   "cell_type": "code",
   "execution_count": 6,
   "metadata": {
    "execution": {},
    "jupyter": {
     "source_hidden": true
    },
    "kernel": "Python3",
    "papermill": {
     "duration": 0.066742,
     "end_time": "2020-09-22T03:37:01.506841",
     "exception": false,
     "start_time": "2020-09-22T03:37:01.440099",
     "status": "completed"
    },
    "tags": []
   },
   "outputs": [],
   "source": [
    "k = np.array([20, 40, 55, 90])\n",
    "\n",
    "# We create an array for every possible value of Rt\n",
    "R_T_MAX = 12\n",
    "r_t_range = np.linspace(0, R_T_MAX, R_T_MAX*100+1)\n",
    "\n",
    "# Gamma is 1/serial interval\n",
    "# https://wwwnc.cdc.gov/eid/article/26/7/20-0282_article\n",
    "# https://www.nejm.org/doi/full/10.1056/NEJMoa2001316\n",
    "GAMMA = 1/7\n",
    "\n",
    "# Map Rt into lambda so we can substitute it into the equation below\n",
    "# Note that we have N-1 lambdas because on the first day of an outbreak\n",
    "# you do not know what to expect.\n",
    "lam = k[:-1] * np.exp(GAMMA * (r_t_range[:, None] - 1))\n",
    "\n",
    "# Evaluate the likelihood on each day and normalize sum of each day to 1.0\n",
    "likelihood_r_t = sps.poisson.pmf(k[1:], lam)\n",
    "likelihood_r_t /= np.sum(likelihood_r_t, axis=0)"
   ]
  },
  {
   "cell_type": "code",
   "execution_count": 7,
   "metadata": {
    "execution": {},
    "jupyter": {
     "source_hidden": true
    },
    "kernel": "Python3",
    "papermill": {
     "duration": 0.068394,
     "end_time": "2020-09-22T03:37:01.609993",
     "exception": false,
     "start_time": "2020-09-22T03:37:01.541599",
     "status": "completed"
    },
    "tags": []
   },
   "outputs": [],
   "source": [
    "posteriors = likelihood_r_t.cumprod(axis=1)\n",
    "posteriors = posteriors / np.sum(posteriors, axis=0)\n",
    "\n",
    "columns = pd.Index(range(1, posteriors.shape[1]+1), name='Day')\n",
    "posteriors = pd.DataFrame(\n",
    "    data = posteriors,\n",
    "    index = r_t_range,\n",
    "    columns = columns)"
   ]
  },
  {
   "cell_type": "code",
   "execution_count": 8,
   "metadata": {
    "execution": {},
    "jupyter": {
     "source_hidden": true
    },
    "kernel": "Python3",
    "papermill": {
     "duration": 0.067054,
     "end_time": "2020-09-22T03:37:01.713186",
     "exception": false,
     "start_time": "2020-09-22T03:37:01.646132",
     "status": "completed"
    },
    "tags": []
   },
   "outputs": [],
   "source": [
    "most_likely_values = posteriors.idxmax(axis=0)"
   ]
  },
  {
   "cell_type": "code",
   "execution_count": 9,
   "metadata": {
    "execution": {},
    "jupyter": {
     "source_hidden": true
    },
    "kernel": "Python3",
    "papermill": {
     "duration": 0.13352,
     "end_time": "2020-09-22T03:37:01.883636",
     "exception": false,
     "start_time": "2020-09-22T03:37:01.750116",
     "status": "completed"
    },
    "tags": []
   },
   "outputs": [],
   "source": [
    "def highest_density_interval(pmf, p=.9, debug=False):\n",
    "    # If we pass a DataFrame, just call this recursively on the columns\n",
    "    if(isinstance(pmf, pd.DataFrame)):\n",
    "        return pd.DataFrame([highest_density_interval(pmf[col], p=p) for col in pmf],\n",
    "                            index=pmf.columns)\n",
    "    \n",
    "    cumsum = np.cumsum(pmf.values)\n",
    "    \n",
    "    # N x N matrix of total probability mass for each low, high\n",
    "    total_p = cumsum - cumsum[:, None]\n",
    "    \n",
    "    # Return all indices with total_p > p\n",
    "    lows, highs = (total_p > p).nonzero()\n",
    "    \n",
    "    # Find the smallest range (highest density)\n",
    "    best = (highs - lows).argmin()\n",
    "    \n",
    "    low = pmf.index[lows[best]]\n",
    "    high = pmf.index[highs[best]]\n",
    "    \n",
    "    return pd.Series([low, high],\n",
    "                     index=[f'Low_{p*100:.0f}',\n",
    "                            f'High_{p*100:.0f}'])\n",
    "\n",
    "hdi = highest_density_interval(posteriors, debug=True)"
   ]
  },
  {
   "cell_type": "code",
   "execution_count": 10,
   "metadata": {
    "execution": {},
    "jupyter": {
     "source_hidden": true
    },
    "kernel": "Python3",
    "papermill": {
     "duration": 0.109195,
     "end_time": "2020-09-22T03:37:02.026268",
     "exception": false,
     "start_time": "2020-09-22T03:37:01.917073",
     "status": "completed"
    },
    "tags": []
   },
   "outputs": [],
   "source": [
    "url = '../covid-19-county-R0/TSHS_CaseCountData/covid_19_positive.txt'\n",
    "counties = pd.read_csv(url,\n",
    "                     usecols=['date', 'county', 'positive'],\n",
    "                     parse_dates=['date'],\n",
    "                     index_col=['county', 'date'],\n",
    "                     squeeze=True, sep=\"\\t\").sort_index()"
   ]
  },
  {
   "cell_type": "code",
   "execution_count": 11,
   "metadata": {
    "collapsed": true,
    "execution": {},
    "jupyter": {
     "outputs_hidden": true,
     "source_hidden": true
    },
    "kernel": "Python3",
    "papermill": {
     "duration": 0.109319,
     "end_time": "2020-09-22T03:37:02.168882",
     "exception": false,
     "start_time": "2020-09-22T03:37:02.059563",
     "status": "completed"
    },
    "tags": []
   },
   "outputs": [],
   "source": [
    "county_name = 'Harris'\n",
    "\n",
    "def prepare_cases(cases, cutoff=24, smooth_days=7, smooth_std=2):\n",
    "    new_cases = cases.diff()\n",
    "    \n",
    "    smoothed = new_cases.rolling(smooth_days,\n",
    "        win_type='gaussian',\n",
    "        min_periods=1,\n",
    "        center=True).mean(std=smooth_std).round()\n",
    "    \n",
    "    idx_start = np.searchsorted(smoothed, cutoff)\n",
    "    \n",
    "    smoothed = smoothed.iloc[idx_start:]\n",
    "    original = new_cases.loc[smoothed.index]\n",
    "    \n",
    "    return original, smoothed\n",
    "\n",
    "def plot_cases(county_name, ax, cutoff=1):\n",
    "    cases = counties.xs(county_name).rename(f\"{county_name} cases\")\n",
    "    original, smoothed = prepare_cases(cases, cutoff=cutoff)\n",
    "    \n",
    "    index = original.index.get_level_values('date')\n",
    "    values = original.values\n",
    "    ax.plot(index, values, \n",
    "               c='k',\n",
    "               linestyle=':',\n",
    "               alpha=.5,\n",
    "               label='Actual')\n",
    "    ax.set_title(f\"{county_name} New Cases per Day\")\n",
    "    index = smoothed.index.get_level_values('date')\n",
    "    values = smoothed.values\n",
    "    ax.scatter(index, values, label='Smoothed', lw=0.3, s=20)\n",
    "    ax.get_figure().set_facecolor('w')\n",
    "    #ax.set_xticklabels(, rotation=45, ha='right')\n",
    "    \n",
    "    ax.xaxis.set_major_locator(mdates.MonthLocator())\n",
    "    ax.xaxis.set_major_formatter(mdates.DateFormatter('%b'))\n",
    "    ax.xaxis.set_minor_locator(mdates.DayLocator())    \n",
    "    ax.set_xlim(pd.Timestamp('2020-03-01'), original.index.get_level_values('date')[-1]+pd.Timedelta(days=1))\n",
    "\n",
    "    \n",
    "#county_name = 'Brewster'\n",
    "cases = counties.xs(county_name).rename(f\"{county_name} cases\")\n",
    "original, smoothed = prepare_cases(cases)\n",
    "#fig, ax = plt.subplots(figsize=(600/72,400/72))\n",
    "#plot_cases(county_name, ax)"
   ]
  },
  {
   "cell_type": "code",
   "execution_count": 12,
   "metadata": {
    "execution": {},
    "jupyter": {
     "source_hidden": true
    },
    "kernel": "Python3",
    "papermill": {
     "duration": 0.815947,
     "end_time": "2020-09-22T03:37:03.021019",
     "exception": false,
     "start_time": "2020-09-22T03:37:02.205072",
     "status": "completed"
    },
    "tags": []
   },
   "outputs": [],
   "source": [
    "def get_posteriors(sr, sigma=0.15):\n",
    "\n",
    "    # (1) Calculate Lambda\n",
    "    lam = sr[:-1].values * np.exp(GAMMA * (r_t_range[:, None] - 1))\n",
    "\n",
    "    \n",
    "    # (2) Calculate each day's likelihood\n",
    "    likelihoods = pd.DataFrame(\n",
    "        data = sps.poisson.pmf(sr[1:].values, lam),\n",
    "        index = r_t_range,\n",
    "        columns = sr.index[1:])\n",
    "    \n",
    "    # (3) Create the Gaussian Matrix\n",
    "    process_matrix = sps.norm(loc=r_t_range,\n",
    "                              scale=sigma\n",
    "                             ).pdf(r_t_range[:, None]) \n",
    "\n",
    "    # (3a) Normalize all rows to sum to 1\n",
    "    process_matrix /= process_matrix.sum(axis=0)\n",
    "    \n",
    "    # (4) Calculate the initial prior\n",
    "    #prior0 = sps.gamma(a=4).pdf(r_t_range)\n",
    "    prior0 = np.ones_like(r_t_range)/len(r_t_range)\n",
    "    prior0 /= prior0.sum()\n",
    "\n",
    "    # Create a DataFrame that will hold our posteriors for each day\n",
    "    # Insert our prior as the first posterior.\n",
    "    posteriors = pd.DataFrame(\n",
    "        index=r_t_range,\n",
    "        columns=sr.index,\n",
    "        data={sr.index[0]: prior0}\n",
    "    )\n",
    "    \n",
    "    # We said we'd keep track of the sum of the log of the probability\n",
    "    # of the data for maximum likelihood calculation.\n",
    "    log_likelihood = 0.0\n",
    "\n",
    "    # (5) Iteratively apply Bayes' rule\n",
    "    for previous_day, current_day in zip(sr.index[:-1], sr.index[1:]):\n",
    "\n",
    "        #(5a) Calculate the new prior\n",
    "        current_prior = process_matrix @ posteriors[previous_day]\n",
    "        \n",
    "        #(5b) Calculate the numerator of Bayes' Rule: P(k|R_t)P(R_t)\n",
    "        numerator = likelihoods[current_day] * current_prior\n",
    "        \n",
    "        #(5c) Calcluate the denominator of Bayes' Rule P(k)\n",
    "        denominator = np.sum(numerator)\n",
    "        \n",
    "        # Execute full Bayes' Rule\n",
    "        posteriors[current_day] = numerator/denominator\n",
    "        \n",
    "        # Add to the running sum of log likelihoods\n",
    "        log_likelihood += np.log(denominator)\n",
    "    \n",
    "    return posteriors, log_likelihood\n",
    "\n",
    "# Note that we're fixing sigma to a value just for the example\n",
    "posteriors, log_likelihood = get_posteriors(smoothed, sigma=.25)"
   ]
  },
  {
   "cell_type": "code",
   "execution_count": 13,
   "metadata": {
    "collapsed": true,
    "execution": {},
    "jupyter": {
     "outputs_hidden": true,
     "source_hidden": true
    },
    "kernel": "Python3",
    "papermill": {
     "duration": 0.080123,
     "end_time": "2020-09-22T03:37:03.140562",
     "exception": false,
     "start_time": "2020-09-22T03:37:03.060439",
     "status": "completed"
    },
    "scrolled": true,
    "tags": []
   },
   "outputs": [],
   "source": [
    "county_name = 'Harris'\n",
    "#ax = posteriors.plot(title=f'{county_name} - Daily Posterior for $R_t$',\n",
    "#           legend=False, \n",
    "#           lw=1,\n",
    "#           c='k',\n",
    "#           alpha=.3,\n",
    "#           xlim=(0.4,6))\n",
    "\n",
    "#ax.set_xlabel('$R_t$');"
   ]
  },
  {
   "cell_type": "markdown",
   "metadata": {
    "jupyter": {
     "source_hidden": true
    },
    "kernel": "SoS",
    "papermill": {
     "duration": 0.042203,
     "end_time": "2020-09-22T03:37:03.220895",
     "exception": false,
     "start_time": "2020-09-22T03:37:03.178692",
     "status": "completed"
    },
    "tags": []
   },
   "source": [
    "### Plotting in the Time Domain with Credible Intervals\n",
    "\n",
    "Since our results include uncertainty, we'd like to be able to view the most likely value of $R_t$ along with its highest-density interval."
   ]
  },
  {
   "cell_type": "code",
   "execution_count": 14,
   "metadata": {
    "execution": {},
    "jupyter": {
     "source_hidden": true
    },
    "kernel": "Python3",
    "papermill": {
     "duration": 1.354051,
     "end_time": "2020-09-22T03:37:04.610640",
     "exception": false,
     "start_time": "2020-09-22T03:37:03.256589",
     "status": "completed"
    },
    "tags": []
   },
   "outputs": [],
   "source": [
    "# Note that this takes a while to execute - it's not the most efficient algorithm\n",
    "hdis = highest_density_interval(posteriors, p=.9)\n",
    "\n",
    "most_likely = posteriors.idxmax().rename('ML')\n",
    "\n",
    "# Look into why you shift -1\n",
    "result = pd.concat([most_likely, hdis], axis=1)"
   ]
  },
  {
   "cell_type": "code",
   "execution_count": 15,
   "metadata": {
    "collapsed": true,
    "execution": {},
    "jupyter": {
     "outputs_hidden": true,
     "source_hidden": true
    },
    "kernel": "Python3",
    "papermill": {
     "duration": 0.063283,
     "end_time": "2020-09-22T03:37:04.710980",
     "exception": false,
     "start_time": "2020-09-22T03:37:04.647697",
     "status": "completed"
    },
    "scrolled": true,
    "tags": []
   },
   "outputs": [],
   "source": [
    "#result.tail(n=15)"
   ]
  },
  {
   "cell_type": "code",
   "execution_count": 16,
   "metadata": {
    "collapsed": true,
    "execution": {},
    "jupyter": {
     "outputs_hidden": true,
     "source_hidden": true
    },
    "kernel": "Python3",
    "papermill": {
     "duration": 0.077726,
     "end_time": "2020-09-22T03:37:04.827083",
     "exception": false,
     "start_time": "2020-09-22T03:37:04.749357",
     "status": "completed"
    },
    "tags": []
   },
   "outputs": [],
   "source": [
    "def plot_rt(result, ax, county_name):\n",
    "    \n",
    "    \n",
    "    # Colors\n",
    "    ABOVE = [1,0,0]\n",
    "    MIDDLE = [1,1,1]\n",
    "    BELOW = [0,0,0]\n",
    "    cmap = ListedColormap(np.r_[\n",
    "        np.linspace(BELOW,MIDDLE,25),\n",
    "        np.linspace(MIDDLE,ABOVE,25)\n",
    "    ])\n",
    "    color_mapped = lambda y: np.clip(y, .5, 1.5)-.5\n",
    "    \n",
    "    index = result['ML'].index.get_level_values('date')\n",
    "    values = result['ML'].values\n",
    "    ax.set_title(f'{county_name} Real Time Rt ({values[-1]:.1f} on {result.index.get_level_values(\"date\")[-1].strftime(\"%m/%d\")})')\n",
    "    \n",
    "    # Plot dots and line\n",
    "    ax.plot(index, values, c='k', zorder=1, alpha=.25)\n",
    "    ax.scatter(index,\n",
    "               values,\n",
    "               s=40,\n",
    "               lw=.5,\n",
    "               c=cmap(color_mapped(values)),\n",
    "               edgecolors='k', zorder=2)\n",
    "    \n",
    "    # Aesthetically, extrapolate credible interval by 1 day either side\n",
    "    lowfn = interp1d(date2num(index),\n",
    "                     result['Low_90'].values,\n",
    "                     bounds_error=False,\n",
    "                     fill_value='extrapolate')\n",
    "    \n",
    "    highfn = interp1d(date2num(index),\n",
    "                      result['High_90'].values,\n",
    "                      bounds_error=False,\n",
    "                      fill_value='extrapolate')\n",
    "    \n",
    "    extended = pd.date_range(start=pd.Timestamp('2020-03-01'),\n",
    "                             end=index[-1]+pd.Timedelta(days=1))\n",
    "    \n",
    "    ax.fill_between(extended,\n",
    "                    lowfn(date2num(extended)),\n",
    "                    highfn(date2num(extended)),\n",
    "                    color='k',\n",
    "                    alpha=.1,\n",
    "                    lw=0,\n",
    "                    zorder=3)\n",
    "\n",
    "    ax.axhline(1.0, c='k', lw=1, label='$R_t=1.0$', alpha=.25);\n",
    "    \n",
    "    # Formatting\n",
    "    ax.xaxis.set_major_locator(mdates.MonthLocator())\n",
    "    ax.xaxis.set_major_formatter(mdates.DateFormatter('%b'))\n",
    "    ax.xaxis.set_minor_locator(mdates.DayLocator())\n",
    "    \n",
    "    ax.yaxis.set_major_locator(ticker.MultipleLocator(1))\n",
    "    ax.yaxis.set_major_formatter(ticker.StrMethodFormatter(\"{x:.1f}\"))\n",
    "    ax.yaxis.tick_right()\n",
    "    ax.spines['left'].set_visible(False)\n",
    "    ax.spines['bottom'].set_visible(False)\n",
    "    ax.spines['right'].set_visible(False)\n",
    "    ax.margins(0)\n",
    "    ax.grid(which='major', axis='y', c='k', alpha=.1, zorder=-2)\n",
    "    ax.margins(0)\n",
    "    ax.set_ylim(0.0, 5.0)\n",
    "    ax.set_xlim(pd.Timestamp('2020-03-01'), result.index.get_level_values('date')[-1]+pd.Timedelta(days=1))\n",
    "    fig.set_facecolor('w')\n",
    "\n",
    "    \n",
    "#fig, ax = plt.subplots(figsize=(600/72,400/72))\n",
    "\n",
    "#plot_rt(result, ax, county_name)\n",
    "#ax.set_title(f'Real-time $R_t$ for {county_name} (till {result.index.get_level_values(\"date\")[-1].strftime(\"%m/%d\")})')\n",
    "#ax.xaxis.set_major_locator(mdates.WeekdayLocator())\n",
    "#ax.xaxis.set_major_formatter(mdates.DateFormatter('%b %d'))\n",
    "#plt.xticks(rotation=45)\n"
   ]
  },
  {
   "cell_type": "code",
   "execution_count": 17,
   "metadata": {
    "execution": {},
    "jupyter": {
     "source_hidden": true
    },
    "kernel": "Python3",
    "papermill": {
     "duration": 0.06862,
     "end_time": "2020-09-22T03:37:04.929486",
     "exception": false,
     "start_time": "2020-09-22T03:37:04.860866",
     "status": "completed"
    },
    "scrolled": true,
    "tags": []
   },
   "outputs": [],
   "source": [
    "targets = ~counties.index.get_level_values('county').isin(FILTERED_REGION_CODES)"
   ]
  },
  {
   "cell_type": "code",
   "execution_count": 18,
   "metadata": {
    "execution": {},
    "jupyter": {
     "source_hidden": true
    },
    "kernel": "Python3",
    "papermill": {
     "duration": 0.065329,
     "end_time": "2020-09-22T03:37:05.029695",
     "exception": false,
     "start_time": "2020-09-22T03:37:04.964366",
     "status": "completed"
    },
    "tags": []
   },
   "outputs": [],
   "source": [
    "counties_to_process = counties.loc[targets]"
   ]
  },
  {
   "cell_type": "code",
   "execution_count": 19,
   "metadata": {
    "collapsed": true,
    "execution": {},
    "jupyter": {
     "outputs_hidden": true,
     "source_hidden": true
    },
    "kernel": "Python3",
    "papermill": {
     "duration": 0.118607,
     "end_time": "2020-09-22T03:37:05.184993",
     "exception": false,
     "start_time": "2020-09-22T03:37:05.066386",
     "status": "completed"
    },
    "tags": []
   },
   "outputs": [
    {
     "data": {
      "text/plain": [
       "county    date      \n",
       "Anderson  2020-03-05      0\n",
       "          2020-03-06      0\n",
       "          2020-03-09      0\n",
       "          2020-03-10      0\n",
       "          2020-03-11      0\n",
       "                       ... \n",
       "Zavala    2020-09-17    283\n",
       "          2020-09-18    289\n",
       "          2020-09-19    290\n",
       "          2020-09-20    290\n",
       "          2020-09-21    341\n",
       "Name: positive, Length: 50292, dtype: int64"
      ]
     },
     "execution_count": 19,
     "metadata": {},
     "output_type": "execute_result"
    }
   ],
   "source": [
    "counties_to_process"
   ]
  },
  {
   "cell_type": "code",
   "execution_count": 20,
   "metadata": {
    "collapsed": true,
    "execution": {},
    "jupyter": {
     "outputs_hidden": true,
     "source_hidden": true
    },
    "kernel": "Python3",
    "papermill": {
     "duration": 0.062533,
     "end_time": "2020-09-22T03:37:05.282521",
     "exception": false,
     "start_time": "2020-09-22T03:37:05.219988",
     "status": "completed"
    },
    "tags": []
   },
   "outputs": [],
   "source": [
    "import sys\n",
    "#sys.getrecursionlimit()"
   ]
  },
  {
   "cell_type": "code",
   "execution_count": 21,
   "metadata": {
    "execution": {},
    "jupyter": {
     "source_hidden": true
    },
    "kernel": "Python3",
    "papermill": {
     "duration": 0.063317,
     "end_time": "2020-09-22T03:37:05.381837",
     "exception": false,
     "start_time": "2020-09-22T03:37:05.318520",
     "status": "completed"
    },
    "tags": []
   },
   "outputs": [],
   "source": [
    "sys.setrecursionlimit(10000)"
   ]
  },
  {
   "cell_type": "code",
   "execution_count": null,
   "metadata": {
    "collapsed": true,
    "jupyter": {
     "outputs_hidden": true,
     "source_hidden": true
    },
    "kernel": "Python3",
    "papermill": {
     "duration": null,
     "end_time": null,
     "exception": false,
     "start_time": "2020-09-22T03:37:05.420292",
     "status": "running"
    },
    "tags": []
   },
   "outputs": [],
   "source": [
    "sigmas = np.linspace(1/20, 1, 20)\n",
    "\n",
    "targets = ~counties.index.get_level_values('county').isin(FILTERED_REGION_CODES)\n",
    "counties_to_process = counties.loc[targets]\n",
    "\n",
    "results = {}\n",
    "\n",
    "for county_name, cases in counties_to_process.groupby(level='county'):\n",
    "    \n",
    "    print(county_name)\n",
    "#(county_name == \"Coryell\")|(county_name == \"Jones\")|(county_name == \"Moore\")|(county_name == \"Panola\")|(county_name == \"Taylor\"):\n",
    "    if (county_name == \"Bowie\")|(county_name == \"Coryell\")|(county_name == \"Harrison\")|(county_name == \"Houston\")|(county_name == \"Jones\")|(county_name == \"Panola\")|(county_name == \"Pecos\")|(county_name == \"Taylor\"):\n",
    "        continue\n",
    "        \n",
    "    new, smoothed = prepare_cases(cases, cutoff=1)\n",
    "      \n",
    "    max_cases = smoothed.max()\n",
    "    if np.isnan(max_cases) or max_cases <= 2:\n",
    "        continue\n",
    "    \n",
    "    if len(smoothed) == 0:\n",
    "        new, smoothed = prepare_cases(cases, cutoff=1)\n",
    "    if len(smoothed) == 0:\n",
    "        continue\n",
    "    result = {}\n",
    "    \n",
    "    # Holds all posteriors with every given value of sigma\n",
    "    result['posteriors'] = []\n",
    "    \n",
    "    # Holds the log likelihood across all k for each value of sigma\n",
    "    result['log_likelihoods'] = []\n",
    "    \n",
    "    for sigma in sigmas:\n",
    "        posteriors, log_likelihood = get_posteriors(smoothed, sigma=sigma)\n",
    "        result['posteriors'].append(posteriors)\n",
    "        result['log_likelihoods'].append(log_likelihood)\n",
    "    \n",
    "    # Store all results keyed off of county name\n",
    "    results[county_name] = result\n",
    "    clear_output(wait=True)\n",
    "\n",
    "print('Done.')"
   ]
  },
  {
   "cell_type": "code",
   "execution_count": null,
   "metadata": {
    "collapsed": true,
    "jupyter": {
     "outputs_hidden": true,
     "source_hidden": true
    },
    "kernel": "Python3",
    "papermill": {
     "duration": null,
     "end_time": null,
     "exception": null,
     "start_time": null,
     "status": "pending"
    },
    "tags": []
   },
   "outputs": [],
   "source": [
    "len(results)"
   ]
  },
  {
   "cell_type": "markdown",
   "metadata": {
    "jupyter": {
     "source_hidden": true
    },
    "kernel": "SoS",
    "papermill": {
     "duration": null,
     "end_time": null,
     "exception": null,
     "start_time": null,
     "status": "pending"
    },
    "tags": []
   },
   "source": [
    "Now that we have all the log likelihoods, we can sum for each value of sigma across counties, graph it, then choose the maximum."
   ]
  },
  {
   "cell_type": "code",
   "execution_count": null,
   "metadata": {
    "collapsed": true,
    "jupyter": {
     "outputs_hidden": true,
     "source_hidden": true
    },
    "kernel": "Python3",
    "papermill": {
     "duration": null,
     "end_time": null,
     "exception": null,
     "start_time": null,
     "status": "pending"
    },
    "tags": []
   },
   "outputs": [],
   "source": [
    "# Each index of this array holds the total of the log likelihoods for\n",
    "# the corresponding index of the sigmas array.\n",
    "total_log_likelihoods = np.zeros_like(sigmas)\n",
    "\n",
    "# Loop through each county's results and add the log likelihoods to the running total.\n",
    "for county_name, result in results.items():\n",
    "    total_log_likelihoods += result['log_likelihoods']\n",
    "\n",
    "# Select the index with the largest log likelihood total\n",
    "max_likelihood_index = total_log_likelihoods.argmax()\n",
    "\n",
    "# Select the value that has the highest log likelihood\n",
    "sigma = sigmas[max_likelihood_index]\n",
    "\n",
    "# Plot it\n",
    "#fig, ax = plt.subplots()\n",
    "#ax.set_title(f\"Maximum Likelihood value for $\\sigma$ = {sigma:.2f}\");\n",
    "#ax.plot(sigmas, total_log_likelihoods)\n",
    "#ax.axvline(sigma, color='k', linestyle=\":\")"
   ]
  },
  {
   "cell_type": "markdown",
   "metadata": {
    "jupyter": {
     "source_hidden": true
    },
    "kernel": "SoS",
    "papermill": {
     "duration": null,
     "end_time": null,
     "exception": null,
     "start_time": null,
     "status": "pending"
    },
    "tags": []
   },
   "source": [
    "### Compile Final Results\n",
    "\n",
    "Given that we've selected the optimal $\\sigma$, let's grab the precalculated posterior corresponding to that value of $\\sigma$ for each county. Let's also calculate the 90% and 50% highest density intervals (this takes a little while) and also the most likely value."
   ]
  },
  {
   "cell_type": "code",
   "execution_count": null,
   "metadata": {
    "jupyter": {
     "source_hidden": true
    },
    "kernel": "Python3",
    "papermill": {
     "duration": null,
     "end_time": null,
     "exception": null,
     "start_time": null,
     "status": "pending"
    },
    "tags": []
   },
   "outputs": [],
   "source": [
    "#del results[\"CT\"]"
   ]
  },
  {
   "cell_type": "code",
   "execution_count": null,
   "metadata": {
    "collapsed": true,
    "jupyter": {
     "outputs_hidden": true,
     "source_hidden": true
    },
    "kernel": "Python3",
    "papermill": {
     "duration": null,
     "end_time": null,
     "exception": null,
     "start_time": null,
     "status": "pending"
    },
    "tags": []
   },
   "outputs": [],
   "source": [
    "final_results = None\n",
    "\n",
    "for county_name, result in results.items():\n",
    "    print(county_name)\n",
    "    posteriors = result['posteriors'][max_likelihood_index]\n",
    "    try:\n",
    "        hdis_90 = highest_density_interval(posteriors, p=.9)\n",
    "        hdis_50 = highest_density_interval(posteriors, p=.5)\n",
    "        most_likely = posteriors.idxmax().rename('ML')\n",
    "        result = pd.concat([most_likely, hdis_90, hdis_50], axis=1)\n",
    "    except:\n",
    "        print(f'Not enough data is available for {county_name}')\n",
    "        continue\n",
    "    if result is not None:\n",
    "        final_results = pd.concat([final_results, result])\n",
    "    clear_output(wait=True)\n",
    "\n",
    "print('Done.')"
   ]
  },
  {
   "cell_type": "markdown",
   "metadata": {
    "kernel": "Python3",
    "papermill": {
     "duration": null,
     "end_time": null,
     "exception": null,
     "start_time": null,
     "status": "pending"
    },
    "tags": []
   },
   "source": [
    "## Daily new cases and real time $R_t$ for Texas Medical Center"
   ]
  },
  {
   "cell_type": "code",
   "execution_count": null,
   "metadata": {
    "jupyter": {
     "source_hidden": true
    },
    "kernel": "Python3",
    "papermill": {
     "duration": null,
     "end_time": null,
     "exception": null,
     "start_time": null,
     "status": "pending"
    },
    "tags": []
   },
   "outputs": [],
   "source": [
    "# find the latest data automatically\n",
    "import os\n",
    "latest_data = sorted([x for x in os.listdir('TMC') if x.startswith('Total Tests') and x.endswith('xlsx')])[-1]\n",
    "tmc_data = pd.read_excel(f'TMC/{latest_data}')\n",
    "tmc_data = tmc_data.dropna()\n",
    "tmc_data = tmc_data[tmc_data[\"Collected Date\"] != \"Grand Total\"]\n",
    "tmc_data['Collected Date']= pd.to_datetime(tmc_data['Collected Date']) \n",
    "tmc_data = tmc_data.sort_values(by='Collected Date').set_index('Collected Date')\n",
    "tmc_cases = tmc_data['POSITIVE'].cumsum()"
   ]
  },
  {
   "cell_type": "code",
   "execution_count": null,
   "metadata": {
    "jupyter": {
     "source_hidden": true
    },
    "kernel": "Python3",
    "papermill": {
     "duration": null,
     "end_time": null,
     "exception": null,
     "start_time": null,
     "status": "pending"
    },
    "tags": []
   },
   "outputs": [],
   "source": [
    "\n",
    "def plot_tmc_cases(cases, ax, cutoff=15, smooth_days=7, smooth_std=2):\n",
    "    original, smoothed = prepare_cases(cases, cutoff=cutoff, smooth_days=smooth_days,\n",
    "                                           smooth_std=smooth_std)\n",
    "    \n",
    "    index = original.index.get_level_values('Collected Date')\n",
    "    values = original.values\n",
    "    ax.plot(index, values, \n",
    "               c='k',\n",
    "               linestyle=':',\n",
    "               alpha=.5,\n",
    "               label='Actual')\n",
    "    ax.set_title(f\"TMC New Cases per Day\")\n",
    "    index = smoothed.index.get_level_values('Collected Date')\n",
    "    values = smoothed.values\n",
    "    ax.scatter(index, values, label='Smoothed', lw=0.3, s=20)\n",
    "    ax.get_figure().set_facecolor('w')\n",
    "    #ax.set_xticklabels(, rotation=45, ha='right')\n",
    "    \n",
    "    ax.xaxis.set_major_locator(mdates.MonthLocator())\n",
    "    ax.xaxis.set_major_formatter(mdates.DateFormatter('%b'))\n",
    "    ax.xaxis.set_minor_locator(mdates.DayLocator())    \n",
    "    ax.set_xlim(pd.Timestamp('2020-03-01'), original.index.get_level_values('Collected Date')[-1]+pd.Timedelta(days=1))\n",
    "    \n",
    "    \n",
    "def plot_tmc_rt(result, ax):\n",
    "    # Colors\n",
    "    ABOVE = [1,0,0]\n",
    "    MIDDLE = [1,1,1]\n",
    "    BELOW = [0,0,0]\n",
    "    cmap = ListedColormap(np.r_[\n",
    "        np.linspace(BELOW,MIDDLE,25),\n",
    "        np.linspace(MIDDLE,ABOVE,25)\n",
    "    ])\n",
    "    color_mapped = lambda y: np.clip(y, .5, 1.5)-.5\n",
    "    \n",
    "    index = result['ML'].index.get_level_values('Collected Date')\n",
    "    values = result['ML'].values\n",
    "    ax.set_title(f'TMC Real Time Rt ({values[-1]:.1f} on {result.index.get_level_values(\"Collected Date\")[-1].strftime(\"%m/%d\")})')\n",
    "    \n",
    "    # Plot dots and line\n",
    "    ax.plot(index, values, c='k', zorder=1, alpha=.25)\n",
    "    ax.scatter(index,\n",
    "               values,\n",
    "               s=40,\n",
    "               lw=.5,\n",
    "               c=cmap(color_mapped(values)),\n",
    "               edgecolors='k', zorder=2)\n",
    "    \n",
    "    # Aesthetically, extrapolate credible interval by 1 day either side\n",
    "    lowfn = interp1d(date2num(index),\n",
    "                     result['Low_90'].values,\n",
    "                     bounds_error=False,\n",
    "                     fill_value='extrapolate')\n",
    "    \n",
    "    highfn = interp1d(date2num(index),\n",
    "                      result['High_90'].values,\n",
    "                      bounds_error=False,\n",
    "                      fill_value='extrapolate')\n",
    "    \n",
    "    extended = pd.date_range(start=pd.Timestamp('2020-03-01'),\n",
    "                             end=index[-1]+pd.Timedelta(days=1))\n",
    "    \n",
    "    ax.fill_between(extended,\n",
    "                    lowfn(date2num(extended)),\n",
    "                    highfn(date2num(extended)),\n",
    "                    color='k',\n",
    "                    alpha=.1,\n",
    "                    lw=0,\n",
    "                    zorder=3)\n",
    "\n",
    "    ax.axhline(1.0, c='k', lw=1, label='$R_t=1.0$', alpha=.25);\n",
    "    \n",
    "    # Formatting\n",
    "    ax.xaxis.set_major_locator(mdates.MonthLocator())\n",
    "    ax.xaxis.set_major_formatter(mdates.DateFormatter('%b'))\n",
    "    ax.xaxis.set_minor_locator(mdates.DayLocator())\n",
    "    \n",
    "    ax.yaxis.set_major_locator(ticker.MultipleLocator(1))\n",
    "    ax.yaxis.set_major_formatter(ticker.StrMethodFormatter(\"{x:.1f}\"))\n",
    "    ax.yaxis.tick_right()\n",
    "    ax.spines['left'].set_visible(False)\n",
    "    ax.spines['bottom'].set_visible(False)\n",
    "    ax.spines['right'].set_visible(False)\n",
    "    ax.margins(0)\n",
    "    ax.grid(which='major', axis='y', c='k', alpha=.1, zorder=-2)\n",
    "    ax.margins(0)\n",
    "    ax.set_ylim(0.0, 5.0)\n",
    "    ax.set_xlim(pd.Timestamp('2020-03-01'), \n",
    "                result.index.get_level_values('Collected Date')[-1] + pd.Timedelta(days=1))\n",
    "    fig.set_facecolor('w')"
   ]
  },
  {
   "cell_type": "code",
   "execution_count": null,
   "metadata": {
    "jupyter": {
     "source_hidden": true
    },
    "kernel": "Python3",
    "papermill": {
     "duration": null,
     "end_time": null,
     "exception": null,
     "start_time": null,
     "status": "pending"
    },
    "tags": []
   },
   "outputs": [],
   "source": [
    "fig, axes = plt.subplots(nrows=1, ncols=2, figsize=(15, 5))\n",
    "\n",
    "tmc_original, tmc_smoothed = prepare_cases(tmc_cases, cutoff=14, smooth_days=param_days, smooth_std=param_std)\n",
    "plot_tmc_cases(tmc_cases, axes[0], smooth_days=param_days, smooth_std=param_std)\n",
    "\n",
    "tmc_posteriors, tmc_log_likelihood = get_posteriors(tmc_smoothed, sigma=param_sigma)\n",
    "tmc_hdis = highest_density_interval(tmc_posteriors, p=.9)\n",
    "\n",
    "tmc_most_likely = tmc_posteriors.idxmax().rename('ML')\n",
    "\n",
    "# Look into why you shift -1\n",
    "tmc_result = pd.concat([tmc_most_likely, tmc_hdis], axis=1)\n",
    "plot_tmc_rt(tmc_result, axes[1])\n"
   ]
  },
  {
   "cell_type": "markdown",
   "metadata": {
    "kernel": "Python3",
    "papermill": {
     "duration": null,
     "end_time": null,
     "exception": null,
     "start_time": null,
     "status": "pending"
    },
    "tags": []
   },
   "source": [
    "Here are estimated $R_t$ in the past 15 days:"
   ]
  },
  {
   "cell_type": "code",
   "execution_count": null,
   "metadata": {
    "jupyter": {
     "source_hidden": true
    },
    "kernel": "Python3",
    "papermill": {
     "duration": null,
     "end_time": null,
     "exception": null,
     "start_time": null,
     "status": "pending"
    },
    "tags": []
   },
   "outputs": [],
   "source": [
    "tmc_result.tail(n=15)"
   ]
  },
  {
   "cell_type": "markdown",
   "metadata": {
    "kernel": "Python3",
    "papermill": {
     "duration": null,
     "end_time": null,
     "exception": null,
     "start_time": null,
     "status": "pending"
    },
    "tags": []
   },
   "source": [
    "## Daily new cases and real time $R_t$ for Harris County"
   ]
  },
  {
   "cell_type": "markdown",
   "metadata": {
    "kernel": "Python3",
    "papermill": {
     "duration": null,
     "end_time": null,
     "exception": null,
     "start_time": null,
     "status": "pending"
    },
    "tags": []
   },
   "source": [
    "<font style='color:red;font-weight:800'>NOTE:</font> New cases reported on September 16 (2768) includes cases in the past month that were not reported in time. The estimated real-time $R_t$ for September 16 is therefore inaccurate."
   ]
  },
  {
   "cell_type": "code",
   "execution_count": null,
   "metadata": {
    "jupyter": {
     "source_hidden": true
    },
    "kernel": "Python3",
    "papermill": {
     "duration": null,
     "end_time": null,
     "exception": null,
     "start_time": null,
     "status": "pending"
    },
    "tags": []
   },
   "outputs": [],
   "source": [
    "county_name = 'Harris'\n",
    "harris_result = [result for name, result in final_results.groupby('county')\n",
    "    if name == county_name][0]\n",
    "\n",
    "fig, axes = plt.subplots(nrows=1, ncols=2, figsize=(15, 5))\n",
    "\n",
    "plot_cases(county_name, axes.flat[0], cutoff=1)\n",
    "plot_rt(harris_result.iloc[1:], axes.flat[1], county_name) \n",
    "plt.show()"
   ]
  },
  {
   "cell_type": "markdown",
   "metadata": {
    "kernel": "Python3",
    "papermill": {
     "duration": null,
     "end_time": null,
     "exception": null,
     "start_time": null,
     "status": "pending"
    },
    "tags": []
   },
   "source": [
    "Here are estimated $R_t$ in the past 15 days:"
   ]
  },
  {
   "cell_type": "code",
   "execution_count": null,
   "metadata": {
    "jupyter": {
     "source_hidden": true
    },
    "kernel": "Python3",
    "papermill": {
     "duration": null,
     "end_time": null,
     "exception": null,
     "start_time": null,
     "status": "pending"
    },
    "tags": []
   },
   "outputs": [],
   "source": [
    "harris_result.tail(15)"
   ]
  },
  {
   "cell_type": "markdown",
   "metadata": {
    "kernel": "SoS",
    "papermill": {
     "duration": null,
     "end_time": null,
     "exception": null,
     "start_time": null,
     "status": "pending"
    },
    "tags": []
   },
   "source": [
    "## Daily new cases and real time $R_t$ for all Texas counties"
   ]
  },
  {
   "cell_type": "code",
   "execution_count": null,
   "metadata": {
    "jupyter": {
     "source_hidden": true
    },
    "kernel": "Python3",
    "papermill": {
     "duration": null,
     "end_time": null,
     "exception": null,
     "start_time": null,
     "status": "pending"
    },
    "tags": []
   },
   "outputs": [],
   "source": [
    "ncols = 4\n",
    "\n",
    "n_valid_results = len([county_name for (county_name, result) in final_results.groupby('county') if len(result.iloc[1:]) >= 2])\n",
    "        \n",
    "nrows = int(np.ceil(n_valid_results * 2 / ncols))\n",
    "\n",
    "\n",
    "n = 0\n",
    "valid = 0\n",
    "for i, (county_name, result) in enumerate(final_results.groupby('county')):\n",
    "    if (len(result.iloc[1:])<2):\n",
    "        n = n+1\n",
    "        continue\n",
    "    else:\n",
    "        if valid % 2 == 0:\n",
    "            fig, axes = plt.subplots(nrows=1, ncols=ncols, figsize=(15, 3))\n",
    "\n",
    "        plot_cases(county_name, axes.flat[2*(i%2)], cutoff=1)\n",
    "        plot_rt(result.iloc[1:], axes.flat[2*(i%2)+1], county_name)\n",
    "        \n",
    "        if valid % 2 == 1:\n",
    "            fig.tight_layout()\n",
    "            fig.set_facecolor('w')\n",
    "            #fig.show()\n",
    "            plt.show()\n",
    "        valid += 1\n"
   ]
  },
  {
   "cell_type": "code",
   "execution_count": null,
   "metadata": {
    "jupyter": {
     "source_hidden": true
    },
    "kernel": "Python3",
    "papermill": {
     "duration": null,
     "end_time": null,
     "exception": null,
     "start_time": null,
     "status": "pending"
    },
    "tags": []
   },
   "outputs": [],
   "source": [
    "# Since we now use a uniform prior, the first datapoint is pretty bogus, so just truncating it here\n",
    "final_results = final_results.groupby('county').apply(lambda x: x.iloc[1:].droplevel(0));"
   ]
  },
  {
   "cell_type": "code",
   "execution_count": null,
   "metadata": {
    "jupyter": {
     "source_hidden": true
    },
    "kernel": "Python3",
    "papermill": {
     "duration": null,
     "end_time": null,
     "exception": null,
     "start_time": null,
     "status": "pending"
    },
    "tags": []
   },
   "outputs": [],
   "source": []
  },
  {
   "cell_type": "code",
   "execution_count": null,
   "metadata": {
    "collapsed": true,
    "jupyter": {
     "outputs_hidden": true,
     "source_hidden": true
    },
    "kernel": "Python3",
    "papermill": {
     "duration": null,
     "end_time": null,
     "exception": null,
     "start_time": null,
     "status": "pending"
    },
    "tags": []
   },
   "outputs": [],
   "source": [
    "final_results"
   ]
  },
  {
   "cell_type": "markdown",
   "metadata": {
    "jupyter": {
     "source_hidden": true
    },
    "kernel": "SoS",
    "papermill": {
     "duration": null,
     "end_time": null,
     "exception": null,
     "start_time": null,
     "status": "pending"
    },
    "tags": []
   },
   "source": [
    "### Export Data to CSV"
   ]
  },
  {
   "cell_type": "code",
   "execution_count": null,
   "metadata": {
    "jupyter": {
     "source_hidden": true
    },
    "kernel": "Python3",
    "papermill": {
     "duration": null,
     "end_time": null,
     "exception": null,
     "start_time": null,
     "status": "pending"
    },
    "scrolled": true,
    "tags": []
   },
   "outputs": [],
   "source": [
    "# Uncomment the following line if you'd like to export the data\n",
    "final_results.to_csv('./TSHS_CaseCountData/rt_tx.csv')"
   ]
  },
  {
   "cell_type": "markdown",
   "metadata": {
    "kernel": "SoS",
    "papermill": {
     "duration": null,
     "end_time": null,
     "exception": null,
     "start_time": null,
     "status": "pending"
    },
    "tags": []
   },
   "source": [
    "### Most recent $R_t$ by county"
   ]
  },
  {
   "cell_type": "code",
   "execution_count": null,
   "metadata": {
    "jupyter": {
     "source_hidden": true
    },
    "kernel": "Python3",
    "papermill": {
     "duration": null,
     "end_time": null,
     "exception": null,
     "start_time": null,
     "status": "pending"
    },
    "tags": []
   },
   "outputs": [],
   "source": [
    "no_lockdown = []\n",
    "partial_lockdown = []\n",
    "\n",
    "FULL_COLOR = [.7,.7,.7]\n",
    "NONE_COLOR = [179/255,35/255,14/255]\n",
    "PARTIAL_COLOR = [.5,.5,.5]\n",
    "ERROR_BAR_COLOR = [.3,.3,.3]\n",
    "#ERROR_BAR_COLOR = 'red'"
   ]
  },
  {
   "cell_type": "code",
   "execution_count": null,
   "metadata": {
    "jupyter": {
     "source_hidden": true
    },
    "kernel": "Python3",
    "papermill": {
     "duration": null,
     "end_time": null,
     "exception": null,
     "start_time": null,
     "status": "pending"
    },
    "tags": []
   },
   "outputs": [],
   "source": [
    "filtered = final_results.index.get_level_values(0).isin(FILTERED_REGION_CODES)\n",
    "mr = final_results.loc[~filtered].groupby(level=0)[['ML', 'High_90', 'Low_90']].last()\n",
    "\n",
    "def plot_standings(mr, figsize=None, title='Most Recent $R_t$ by county'):\n",
    "    if not figsize:\n",
    "        figsize = ((15.9/50)*len(mr)+.1,2.5)\n",
    "        \n",
    "    fig, ax = plt.subplots(figsize=figsize)\n",
    "\n",
    "    ax.set_title(title)\n",
    "    err = mr[['Low_90', 'High_90']].sub(mr['ML'], axis=0).abs()\n",
    "    bars = ax.bar(mr.index,\n",
    "                  mr['ML'],\n",
    "                  width=.825,\n",
    "                  color=FULL_COLOR,\n",
    "                  ecolor=ERROR_BAR_COLOR,\n",
    "                  capsize=2,\n",
    "                  error_kw={'alpha':.5, 'lw':1},\n",
    "                  yerr=err.values.T)\n",
    "\n",
    "#     for bar, county_name in zip(bars, mr.index):\n",
    "#         if county_name in no_lockdown:\n",
    "#             bar.set_color(NONE_COLOR)\n",
    "#         if county_name in partial_lockdown:\n",
    "#             bar.set_color(PARTIAL_COLOR)\n",
    "\n",
    "    labels = mr.index.to_series().replace({'District of Columbia':'DC'})\n",
    "    ax.set_xticklabels(labels, rotation=90, fontsize=11)\n",
    "    ax.margins(0)\n",
    "    ax.set_ylim(0, 5.)\n",
    "    ax.axhline(1.0, linestyle=':', color='k', lw=1)\n",
    "\n",
    "#     leg = ax.legend(handles=[\n",
    "#                         Patch(label='Full', color=FULL_COLOR),\n",
    "#                         Patch(label='Partial', color=PARTIAL_COLOR),\n",
    "#                         Patch(label='None', color=NONE_COLOR)\n",
    "#                     ],\n",
    "#                     title='Lockdown',\n",
    "#                     ncol=3,\n",
    "#                     loc='upper left',\n",
    "#                     columnspacing=.75,\n",
    "#                     handletextpad=.5,\n",
    "#                     handlelength=1)\n",
    "\n",
    "#     leg._legend_box.align = \"left\"\n",
    "    fig.set_facecolor('w')\n",
    "    return fig, ax\n",
    "\n",
    "mr.sort_values('ML', inplace=True)\n",
    "plot_standings(mr);"
   ]
  },
  {
   "cell_type": "code",
   "execution_count": null,
   "metadata": {
    "collapsed": true,
    "jupyter": {
     "outputs_hidden": true,
     "source_hidden": true
    },
    "kernel": "Python3",
    "papermill": {
     "duration": null,
     "end_time": null,
     "exception": null,
     "start_time": null,
     "status": "pending"
    },
    "tags": []
   },
   "outputs": [],
   "source": [
    "mr.sort_values('High_90', inplace=True)\n",
    "plot_standings(mr);"
   ]
  },
  {
   "cell_type": "code",
   "execution_count": null,
   "metadata": {
    "collapsed": true,
    "jupyter": {
     "outputs_hidden": true,
     "source_hidden": true
    },
    "kernel": "Python3",
    "papermill": {
     "duration": null,
     "end_time": null,
     "exception": null,
     "start_time": null,
     "status": "pending"
    },
    "tags": []
   },
   "outputs": [],
   "source": [
    "show = mr[mr.High_90.le(1)].sort_values('ML')\n",
    "fig, ax = plot_standings(show, title='Likely Under Control');"
   ]
  },
  {
   "cell_type": "code",
   "execution_count": null,
   "metadata": {
    "collapsed": true,
    "jupyter": {
     "outputs_hidden": true,
     "source_hidden": true
    },
    "kernel": "Python3",
    "papermill": {
     "duration": null,
     "end_time": null,
     "exception": null,
     "start_time": null,
     "status": "pending"
    },
    "tags": []
   },
   "outputs": [],
   "source": [
    "show = mr[mr.Low_90.ge(1.0)].sort_values('Low_90')\n",
    "fig, ax = plot_standings(show, title='Likely Not Under Control');\n",
    "#ax.get_legend().remove()"
   ]
  },
  {
   "cell_type": "code",
   "execution_count": null,
   "metadata": {
    "jupyter": {
     "source_hidden": true
    },
    "kernel": "Python3",
    "papermill": {
     "duration": null,
     "end_time": null,
     "exception": null,
     "start_time": null,
     "status": "pending"
    },
    "tags": []
   },
   "outputs": [],
   "source": []
  }
 ],
 "metadata": {
  "kernelspec": {
   "display_name": "SoS",
   "language": "sos",
   "name": "sos"
  },
  "language_info": {
   "codemirror_mode": "sos",
   "file_extension": ".sos",
   "mimetype": "text/x-sos",
   "name": "sos",
   "nbconvert_exporter": "sos_notebook.converter.SoS_Exporter",
   "pygments_lexer": "sos"
  },
  "papermill": {
   "duration": null,
   "end_time": null,
   "environment_variables": {},
   "exception": null,
   "input_path": "Realtime R0_sos.ipynb",
   "output_path": "Realtime_updated.ipynb",
   "parameters": {
    "param_days": 10,
    "param_sigma": 0.08,
    "param_std": 2.2
   },
   "start_time": "2020-09-22T03:36:55.833211",
   "version": "2.1.2"
  },
  "sos": {
   "kernels": [
    [
     "SoS",
     "sos",
     "",
     "",
     ""
    ],
    [
     "Python3",
     "python3",
     "",
     "",
     ""
    ]
   ]
  }
 },
 "nbformat": 4,
 "nbformat_minor": 4
}